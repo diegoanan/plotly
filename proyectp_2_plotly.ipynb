{
 "cells": [
  {
   "cell_type": "code",
   "execution_count": 19,
   "metadata": {},
   "outputs": [],
   "source": [
    "import plotly.graph_objects as go\n",
    "import glob\n",
    "import numpy as np\n",
    "import moviepy.editor as mpy\n",
    "import os\n",
    "if not os.path.exists(\"images\"):#creacion de la carpeta donde se almacenaran los frames y el video\n",
    "    os.mkdir(\"images\")\n",
    "np.random.seed(1)#al modificar esta variable obtenemos graficas diferente\n",
    "%matplotlib notebook\n",
    "fps = 10 #frames por segundo\n",
    "\n",
    "N = 100\n",
    "x = np.random.rand(N)\n",
    "y = np.random.rand(N)\n",
    "colors = np.random.rand(N)\n",
    "sz = np.random.rand(N) * 30\n",
    "fig = go.Figure()\n",
    "#print(x)\n",
    "for i in range (N):#iteracion para la creacion de N frames\n",
    "    fig.add_trace(go.Scatter(\n",
    "        x=x[0:i],\n",
    "        y=y[0:i],\n",
    "        mode=\"markers\",\n",
    "        marker=go.scatter.Marker(\n",
    "            size=sz[0:i],\n",
    "            color=colors[0:i],\n",
    "            opacity=0.6,\n",
    "            colorscale=\"Viridis\"\n",
    "\n",
    "        )\n",
    "    ))\n",
    "    fig.write_image(\"images/fig%02d.png\" %i)#creacion del frame o imagen"
   ]
  },
  {
   "cell_type": "code",
   "execution_count": 20,
   "metadata": {},
   "outputs": [],
   "source": [
    "file_list = sorted(glob.glob('images/*.png'))#enlista en orden numerico y llena el arreglo con las imagenes .png"
   ]
  },
  {
   "cell_type": "code",
   "execution_count": 25,
   "metadata": {},
   "outputs": [],
   "source": [
    "clip = mpy.ImageSequenceClip(file_list, fps=10)#crea la variable de secuancia de imagenes"
   ]
  },
  {
   "cell_type": "code",
   "execution_count": 26,
   "metadata": {},
   "outputs": [
    {
     "name": "stderr",
     "output_type": "stream",
     "text": [
      "t:   2%|█▉                                                                                                        | 2/110 [00:00<00:06, 16.68it/s, now=None]"
     ]
    },
    {
     "name": "stdout",
     "output_type": "stream",
     "text": [
      "Moviepy - Building video images/movie.mp4.\n",
      "Moviepy - Writing video images/movie.mp4\n",
      "\n"
     ]
    },
    {
     "name": "stderr",
     "output_type": "stream",
     "text": [
      "                                                                                                                                                            \r"
     ]
    },
    {
     "name": "stdout",
     "output_type": "stream",
     "text": [
      "Moviepy - Done !\n",
      "Moviepy - video ready images/movie.mp4\n"
     ]
    }
   ],
   "source": [
    "clip.write_videofile(\"images/movie.mp4\")#almacena la variable en un formato de video"
   ]
  },
  {
   "cell_type": "code",
   "execution_count": null,
   "metadata": {},
   "outputs": [],
   "source": []
  }
 ],
 "metadata": {
  "kernelspec": {
   "display_name": "Python 3",
   "language": "python",
   "name": "python3"
  },
  "language_info": {
   "codemirror_mode": {
    "name": "ipython",
    "version": 3
   },
   "file_extension": ".py",
   "mimetype": "text/x-python",
   "name": "python",
   "nbconvert_exporter": "python",
   "pygments_lexer": "ipython3",
   "version": "3.9.1"
  }
 },
 "nbformat": 4,
 "nbformat_minor": 4
}
